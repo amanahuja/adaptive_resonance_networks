{
 "cells": [
  {
   "cell_type": "markdown",
   "metadata": {},
   "source": [
    "# ART1 demo\n",
    "\n",
    "Adaptive Resonance Theory Neural Networks\n",
    "by Aman Ahuja | github.com/amanahuja | twitter: @amanqa\n",
    "\n",
    "\n",
    "## Overview\n",
    "\n",
    "Reminders: \n",
    "\n",
    " * ART1 accepts binary inputs only. \n",
    "\n",
    "In this example:\n",
    " * We'll use small PNG images for character recognition"
   ]
  },
  {
   "cell_type": "markdown",
   "metadata": {},
   "source": [
    "# [Load data]\n",
    "\n",
    " * Data is a series of png images\n",
    " * pixelated drawings of letters"
   ]
  },
  {
   "cell_type": "code",
   "execution_count": null,
   "metadata": {
    "collapsed": true
   },
   "outputs": [],
   "source": [
    "import os\n",
    "import numpy as np\n",
    "from PIL import Image"
   ]
  },
  {
   "cell_type": "code",
   "execution_count": null,
   "metadata": {
    "collapsed": false
   },
   "outputs": [],
   "source": [
    "# make sure we're in the root directory\n",
    "\n",
    "pwd = os.getcwd()\n",
    "if pwd.endswith('ipynb'):\n",
    "    os.chdir('..')\n",
    "    \n",
    "#print os.getcwd()"
   ]
  },
  {
   "cell_type": "code",
   "execution_count": null,
   "metadata": {
    "collapsed": false
   },
   "outputs": [],
   "source": [
    "# data directory\n",
    "data_dir = 'data/lettericons'\n",
    "\n",
    "data_list = []\n",
    "\n",
    "\n",
    "for f in os.listdir(data_dir):\n",
    "    data_list.append(os.path.join(data_dir, f))\n",
    "\n",
    "# Just print first five images\n",
    "data_list[:5]"
   ]
  },
  {
   "cell_type": "markdown",
   "metadata": {},
   "source": [
    "#### Reformat data"
   ]
  },
  {
   "cell_type": "code",
   "execution_count": null,
   "metadata": {
    "collapsed": false
   },
   "outputs": [],
   "source": [
    "from utils import preprocess_data"
   ]
  },
  {
   "cell_type": "code",
   "execution_count": null,
   "metadata": {
    "collapsed": false
   },
   "outputs": [],
   "source": [
    "raw_data = []\n",
    "\n",
    "for ii in data_list: \n",
    "    im = Image.open(ii)\n",
    "    idat = np.array(im) > 100\n",
    "    idat = idat.flatten()\n",
    "    raw_data.append(idat)\n",
    "    \n",
    "np.random.seed(111)\n",
    "np.random.shuffle(raw_data)\n",
    "    \n",
    "data = preprocess_data(raw_data)"
   ]
  },
  {
   "cell_type": "code",
   "execution_count": null,
   "metadata": {
    "collapsed": false
   },
   "outputs": [],
   "source": [
    "data"
   ]
  },
  {
   "cell_type": "markdown",
   "metadata": {},
   "source": [
    "#### Visualize the input data"
   ]
  },
  {
   "cell_type": "code",
   "execution_count": null,
   "metadata": {
    "collapsed": false
   },
   "outputs": [],
   "source": [
    "# Examine one\n",
    "\n",
    "im = Image.open(data_list[0])\n",
    "im\n"
   ]
  },
  {
   "cell_type": "code",
   "execution_count": null,
   "metadata": {
    "collapsed": false
   },
   "outputs": [],
   "source": [
    "data.shape"
   ]
  },
  {
   "cell_type": "code",
   "execution_count": null,
   "metadata": {
    "collapsed": true
   },
   "outputs": [],
   "source": [
    "%matplotlib inline\n",
    "\n",
    "from matplotlib.pyplot import imshow\n",
    "import matplotlib.pyplot as plt"
   ]
  },
  {
   "cell_type": "code",
   "execution_count": null,
   "metadata": {
    "collapsed": false
   },
   "outputs": [],
   "source": [
    "from utils import display_single_png, display_all_png"
   ]
  },
  {
   "cell_type": "code",
   "execution_count": null,
   "metadata": {
    "collapsed": false
   },
   "outputs": [],
   "source": [
    "display_single_png(idat)\n",
    "\n",
    "plt.show()"
   ]
  },
  {
   "cell_type": "code",
   "execution_count": null,
   "metadata": {
    "collapsed": false
   },
   "outputs": [],
   "source": [
    "display_all_png(data)\n",
    "\n",
    "plt.show()"
   ]
  },
  {
   "cell_type": "markdown",
   "metadata": {},
   "source": [
    "## DO"
   ]
  },
  {
   "cell_type": "code",
   "execution_count": null,
   "metadata": {
    "collapsed": true
   },
   "outputs": [],
   "source": [
    "from ART1 import ART1"
   ]
  },
  {
   "cell_type": "code",
   "execution_count": null,
   "metadata": {
    "collapsed": false,
    "scrolled": false
   },
   "outputs": [],
   "source": [
    "from collections import defaultdict\n",
    "\n",
    "# create networkreload\n",
    "\n",
    "input_row_size = 100\n",
    "max_categories = 8\n",
    "rho = 0.4\n",
    "\n",
    "\n",
    "network = ART1(n=input_row_size, m=max_categories, rho=rho)\n",
    "\n",
    "# preprocess data\n",
    "data_cleaned = preprocess_data(data)\n",
    "\n",
    "# shuffle data? \n",
    "np.random.seed(155)\n",
    "np.random.shuffle(data_cleaned)\n",
    "\n",
    "# multiple epochs?\n",
    "network.compute(data_cleaned)\n",
    "\n",
    "\n",
    "# # learn data array, row by row\n",
    "# for row in data_cleaned:\n",
    "#     network.learn(row)\n",
    "\n",
    "print\n",
    "print \"n rows of data:         \", len(data_cleaned)\n",
    "print \"max categories allowed: \", max_categories\n",
    "print \"rho:                    \", rho\n",
    "\n",
    "#print \"n categories used:      \", network.n_cats\n",
    "print\n"
   ]
  },
  {
   "cell_type": "code",
   "execution_count": null,
   "metadata": {
    "collapsed": false
   },
   "outputs": [],
   "source": [
    "network.Y"
   ]
  },
  {
   "cell_type": "markdown",
   "metadata": {},
   "source": [
    "### Visualize cluster weights as an input pattern\n",
    "\n",
    "The cluster unit weights can be represented visually, representing the learned patterns for that unit. "
   ]
  },
  {
   "cell_type": "code",
   "execution_count": null,
   "metadata": {
    "collapsed": false
   },
   "outputs": [],
   "source": [
    "# print learned clusters\n",
    "for idx, cluster in enumerate(network.Bij.T): \n",
    "    print \"Cluster Unit #{}\".format(idx)\n",
    "    display_single_output(cluster)"
   ]
  },
  {
   "cell_type": "markdown",
   "metadata": {},
   "source": [
    "### Sanity check: predict cluster centers\n",
    "\n",
    "What if we take one of these cluster \"centers\" and feed it back into the network for prediction?"
   ]
  },
  {
   "cell_type": "code",
   "execution_count": null,
   "metadata": {
    "collapsed": false
   },
   "outputs": [],
   "source": [
    "# Cluster_index\n",
    "clust_idx = 2\n",
    "print \"Target: \", clust_idx\n",
    "idata = network.Bij.T[clust_idx]\n",
    "idata = idata.astype(bool).astype(int)\n",
    "display_single_output(idata)\n",
    "\n",
    "# Prediction\n",
    "pred = network.predict(idata)\n",
    "print \"prediction (cluster index): \", pred"
   ]
  },
  {
   "cell_type": "raw",
   "metadata": {},
   "source": [
    "Prediction should always match the target exactly. "
   ]
  },
  {
   "cell_type": "markdown",
   "metadata": {},
   "source": [
    "### Examine the predictions visually"
   ]
  },
  {
   "cell_type": "code",
   "execution_count": null,
   "metadata": {
    "collapsed": false,
    "scrolled": false
   },
   "outputs": [],
   "source": [
    "# output results, row by row\n",
    "output_dict = defaultdict(list)\n",
    "\n",
    "for row, row_cleaned in zip (data, data_cleaned): \n",
    "    pred = network.predict(row_cleaned)\n",
    "    output_dict[pred].append(row)\n",
    "\n",
    "for k,v in output_dict.iteritems():\n",
    "    print \"Cluster #{} ({} members)\".format(k, len(v))\n",
    "    print '-'*20\n",
    "    for row in v: \n",
    "        display_single_output(row)\n",
    "        \n",
    "#   \\  print \"'{}':{}\".format(\n",
    "#         row, \n",
    "#         network.predict(row_cleaned))\n",
    "    "
   ]
  },
  {
   "cell_type": "markdown",
   "metadata": {},
   "source": [
    "### Sanity check: Modify input pattern randomly\n",
    "\n",
    "\n",
    "By making random variations of the input pattern, we can judge the ability of the network to generalize input patterns not seen in the training data. "
   ]
  },
  {
   "cell_type": "code",
   "execution_count": null,
   "metadata": {
    "collapsed": false,
    "scrolled": false
   },
   "outputs": [],
   "source": [
    "# of tests\n",
    "ntests = 10\n",
    "\n",
    "# number of bits in the pattern to modify\n",
    "nchanges = 30\n",
    "\n",
    "for test in range(ntests):\n",
    "\n",
    "    #cluster_index\n",
    "    clust_idx = np.random.randint(network.output_size)\n",
    "    print \"Target: \", clust_idx\n",
    "    idata = network.Bij.T[clust_idx]\n",
    "    idata = idata.astype(bool).astype(int)\n",
    "\n",
    "    #modify data\n",
    "    for ii in range(nchanges):\n",
    "        rand_element = np.random.randint(idata.shape[0])\n",
    "\n",
    "        # flip this bit\n",
    "        if idata[rand_element] == 0: \n",
    "            idata[rand_element] = 1\n",
    "        else: \n",
    "            idata[rand_element] = 0\n",
    "            \n",
    "        # randomize this bit\n",
    "        idata[rand_element] = np.random.randint(1)\n",
    "\n",
    "\n",
    "    display_single_output(idata)\n",
    "\n",
    "    # prediction\n",
    "    pred = network.predict(idata)\n",
    "    print \"prediction (cluster index): \", pred\n",
    "\n",
    "    display_single_output(network.Bij.T[pred])\n",
    "    print \"-\" * 20\n",
    "\n",
    "plt.show()"
   ]
  },
  {
   "cell_type": "code",
   "execution_count": null,
   "metadata": {
    "collapsed": false
   },
   "outputs": [],
   "source": [
    "# print training data \n",
    "display_output(data)\n",
    "plt.show()"
   ]
  },
  {
   "cell_type": "code",
   "execution_count": null,
   "metadata": {
    "collapsed": true
   },
   "outputs": [],
   "source": []
  }
 ],
 "metadata": {
  "kernelspec": {
   "display_name": "Python 2",
   "language": "python",
   "name": "python2"
  },
  "language_info": {
   "codemirror_mode": {
    "name": "ipython",
    "version": 2
   },
   "file_extension": ".py",
   "mimetype": "text/x-python",
   "name": "python",
   "nbconvert_exporter": "python",
   "pygments_lexer": "ipython2",
   "version": "2.7.11"
  }
 },
 "nbformat": 4,
 "nbformat_minor": 0
}
